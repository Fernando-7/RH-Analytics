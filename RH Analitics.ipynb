{
 "cells": [
  {
   "cell_type": "code",
   "execution_count": 82,
   "id": "d28b6ebc",
   "metadata": {},
   "outputs": [],
   "source": [
    "import pandas as pd\n",
    "import numpy as np\n",
    "import seaborn as sb\n",
    "from sklearn import metrics\n",
    "from sklearn.naive_bayes import GaussianNB\n",
    "from sklearn.neighbors import KNeighborsClassifier\n",
    "from sklearn.tree import DecisionTreeClassifier\n",
    "from sklearn import preprocessing\n",
    "from sklearn.model_selection import train_test_split"
   ]
  },
  {
   "cell_type": "code",
   "execution_count": 3,
   "id": "2c3757b5",
   "metadata": {},
   "outputs": [],
   "source": [
    "dados_train = pd.read_csv('dados/aug_train.csv')\n",
    "dados_test = pd.read_csv('dados/aug_test.csv')"
   ]
  },
  {
   "cell_type": "code",
   "execution_count": 4,
   "id": "afc93251",
   "metadata": {},
   "outputs": [
    {
     "data": {
      "text/plain": [
       "19158"
      ]
     },
     "execution_count": 4,
     "metadata": {},
     "output_type": "execute_result"
    }
   ],
   "source": [
    "len(dados_train)"
   ]
  },
  {
   "cell_type": "code",
   "execution_count": 5,
   "id": "de9c275b",
   "metadata": {},
   "outputs": [
    {
     "data": {
      "text/plain": [
       "2129"
      ]
     },
     "execution_count": 5,
     "metadata": {},
     "output_type": "execute_result"
    }
   ],
   "source": [
    "len(dados_test)"
   ]
  },
  {
   "cell_type": "markdown",
   "id": "ca604e04",
   "metadata": {},
   "source": [
    "## Tratamento dos dados de Treinamento e Teste"
   ]
  },
  {
   "cell_type": "code",
   "execution_count": 6,
   "id": "510cbcdd",
   "metadata": {},
   "outputs": [
    {
     "data": {
      "text/plain": [
       "21287"
      ]
     },
     "execution_count": 6,
     "metadata": {},
     "output_type": "execute_result"
    }
   ],
   "source": [
    "dados_test['target'] = -1.0\n",
    "dataset = pd.concat([dados_train,dados_test])\n",
    "len(dataset)"
   ]
  },
  {
   "cell_type": "code",
   "execution_count": 7,
   "id": "01fa2908",
   "metadata": {},
   "outputs": [
    {
     "data": {
      "text/plain": [
       "(21287, 14)"
      ]
     },
     "execution_count": 7,
     "metadata": {},
     "output_type": "execute_result"
    }
   ],
   "source": [
    "dataset.shape"
   ]
  },
  {
   "cell_type": "code",
   "execution_count": 8,
   "id": "5c08c713",
   "metadata": {},
   "outputs": [
    {
     "data": {
      "text/html": [
       "<div>\n",
       "<style scoped>\n",
       "    .dataframe tbody tr th:only-of-type {\n",
       "        vertical-align: middle;\n",
       "    }\n",
       "\n",
       "    .dataframe tbody tr th {\n",
       "        vertical-align: top;\n",
       "    }\n",
       "\n",
       "    .dataframe thead th {\n",
       "        text-align: right;\n",
       "    }\n",
       "</style>\n",
       "<table border=\"1\" class=\"dataframe\">\n",
       "  <thead>\n",
       "    <tr style=\"text-align: right;\">\n",
       "      <th></th>\n",
       "      <th>enrollee_id</th>\n",
       "      <th>city</th>\n",
       "      <th>city_development_index</th>\n",
       "      <th>gender</th>\n",
       "      <th>relevent_experience</th>\n",
       "      <th>enrolled_university</th>\n",
       "      <th>education_level</th>\n",
       "      <th>major_discipline</th>\n",
       "      <th>experience</th>\n",
       "      <th>company_size</th>\n",
       "      <th>company_type</th>\n",
       "      <th>last_new_job</th>\n",
       "      <th>training_hours</th>\n",
       "      <th>target</th>\n",
       "    </tr>\n",
       "  </thead>\n",
       "  <tbody>\n",
       "    <tr>\n",
       "      <th>0</th>\n",
       "      <td>8949</td>\n",
       "      <td>city_103</td>\n",
       "      <td>0.920</td>\n",
       "      <td>Male</td>\n",
       "      <td>Has relevent experience</td>\n",
       "      <td>no_enrollment</td>\n",
       "      <td>Graduate</td>\n",
       "      <td>STEM</td>\n",
       "      <td>&gt;20</td>\n",
       "      <td>NaN</td>\n",
       "      <td>NaN</td>\n",
       "      <td>1</td>\n",
       "      <td>36</td>\n",
       "      <td>1.0</td>\n",
       "    </tr>\n",
       "    <tr>\n",
       "      <th>1</th>\n",
       "      <td>29725</td>\n",
       "      <td>city_40</td>\n",
       "      <td>0.776</td>\n",
       "      <td>Male</td>\n",
       "      <td>No relevent experience</td>\n",
       "      <td>no_enrollment</td>\n",
       "      <td>Graduate</td>\n",
       "      <td>STEM</td>\n",
       "      <td>15</td>\n",
       "      <td>50-99</td>\n",
       "      <td>Pvt Ltd</td>\n",
       "      <td>&gt;4</td>\n",
       "      <td>47</td>\n",
       "      <td>0.0</td>\n",
       "    </tr>\n",
       "    <tr>\n",
       "      <th>2</th>\n",
       "      <td>11561</td>\n",
       "      <td>city_21</td>\n",
       "      <td>0.624</td>\n",
       "      <td>NaN</td>\n",
       "      <td>No relevent experience</td>\n",
       "      <td>Full time course</td>\n",
       "      <td>Graduate</td>\n",
       "      <td>STEM</td>\n",
       "      <td>5</td>\n",
       "      <td>NaN</td>\n",
       "      <td>NaN</td>\n",
       "      <td>never</td>\n",
       "      <td>83</td>\n",
       "      <td>0.0</td>\n",
       "    </tr>\n",
       "    <tr>\n",
       "      <th>3</th>\n",
       "      <td>33241</td>\n",
       "      <td>city_115</td>\n",
       "      <td>0.789</td>\n",
       "      <td>NaN</td>\n",
       "      <td>No relevent experience</td>\n",
       "      <td>NaN</td>\n",
       "      <td>Graduate</td>\n",
       "      <td>Business Degree</td>\n",
       "      <td>&lt;1</td>\n",
       "      <td>NaN</td>\n",
       "      <td>Pvt Ltd</td>\n",
       "      <td>never</td>\n",
       "      <td>52</td>\n",
       "      <td>1.0</td>\n",
       "    </tr>\n",
       "    <tr>\n",
       "      <th>4</th>\n",
       "      <td>666</td>\n",
       "      <td>city_162</td>\n",
       "      <td>0.767</td>\n",
       "      <td>Male</td>\n",
       "      <td>Has relevent experience</td>\n",
       "      <td>no_enrollment</td>\n",
       "      <td>Masters</td>\n",
       "      <td>STEM</td>\n",
       "      <td>&gt;20</td>\n",
       "      <td>50-99</td>\n",
       "      <td>Funded Startup</td>\n",
       "      <td>4</td>\n",
       "      <td>8</td>\n",
       "      <td>0.0</td>\n",
       "    </tr>\n",
       "  </tbody>\n",
       "</table>\n",
       "</div>"
      ],
      "text/plain": [
       "   enrollee_id      city  city_development_index gender  \\\n",
       "0         8949  city_103                   0.920   Male   \n",
       "1        29725   city_40                   0.776   Male   \n",
       "2        11561   city_21                   0.624    NaN   \n",
       "3        33241  city_115                   0.789    NaN   \n",
       "4          666  city_162                   0.767   Male   \n",
       "\n",
       "       relevent_experience enrolled_university education_level  \\\n",
       "0  Has relevent experience       no_enrollment        Graduate   \n",
       "1   No relevent experience       no_enrollment        Graduate   \n",
       "2   No relevent experience    Full time course        Graduate   \n",
       "3   No relevent experience                 NaN        Graduate   \n",
       "4  Has relevent experience       no_enrollment         Masters   \n",
       "\n",
       "  major_discipline experience company_size    company_type last_new_job  \\\n",
       "0             STEM        >20          NaN             NaN            1   \n",
       "1             STEM         15        50-99         Pvt Ltd           >4   \n",
       "2             STEM          5          NaN             NaN        never   \n",
       "3  Business Degree         <1          NaN         Pvt Ltd        never   \n",
       "4             STEM        >20        50-99  Funded Startup            4   \n",
       "\n",
       "   training_hours  target  \n",
       "0              36     1.0  \n",
       "1              47     0.0  \n",
       "2              83     0.0  \n",
       "3              52     1.0  \n",
       "4               8     0.0  "
      ]
     },
     "execution_count": 8,
     "metadata": {},
     "output_type": "execute_result"
    }
   ],
   "source": [
    "dataset.head()"
   ]
  },
  {
   "cell_type": "code",
   "execution_count": 9,
   "id": "82efdb70",
   "metadata": {},
   "outputs": [
    {
     "name": "stdout",
     "output_type": "stream",
     "text": [
      "enrollee_id   0.0\n",
      "city   0.0\n",
      "city_development_index   0.0\n",
      "gender   23.563677361770093\n",
      "relevent_experience   0.0\n",
      "enrolled_university   1.9589420773241883\n",
      "education_level   2.405223845539531\n",
      "major_discipline   14.680321322873116\n",
      "experience   0.3288391976323578\n",
      "company_size   30.816930520975244\n",
      "company_type   31.822238925165593\n",
      "last_new_job   2.1750364071968806\n",
      "training_hours   0.0\n",
      "target   0.0\n"
     ]
    }
   ],
   "source": [
    "#analisar percentual de valores faltantes no dataset\n",
    "for value in dataset.columns:\n",
    "    print(value,\" \",(dataset[value].isna().sum()/len(dataset))*100)"
   ]
  },
  {
   "cell_type": "code",
   "execution_count": 10,
   "id": "0a060aab",
   "metadata": {},
   "outputs": [],
   "source": [
    "#remoção da coluna id, pois como ids são identificadores, não serão utilizados na análise\n",
    "dataset.drop(['enrollee_id'],axis = 1,inplace= True)"
   ]
  },
  {
   "cell_type": "code",
   "execution_count": 11,
   "id": "3790d877",
   "metadata": {},
   "outputs": [
    {
     "name": "stdout",
     "output_type": "stream",
     "text": [
      "experience   ['>20', '5', '4', '3', '6', '2', '7', '9', '10', '8', '11', '15', '14', '1', '<1', '16', '12', '13', '17', '19', '18', '20']\n",
      "last_new_job   ['1', '>4', '2', 'never', '3', '4']\n",
      "company_size   ['50-99', '100-500', '10000+', '10/49', '<10', '1000-4999', '500-999', '5000-9999']\n",
      "company_type   ['Pvt Ltd', 'Funded Startup', 'Public Sector', 'Early Stage Startup', 'NGO', 'Other']\n"
     ]
    }
   ],
   "source": [
    "# Analisar os valores de algumas das variáveis já observadas no momento da plotagem do head\n",
    "for value in ['experience','last_new_job','company_size','company_type']:\n",
    "    print(value,\" \",dataset[value].value_counts().index.tolist())"
   ]
  },
  {
   "cell_type": "code",
   "execution_count": 12,
   "id": "6cab4619",
   "metadata": {},
   "outputs": [
    {
     "name": "stdout",
     "output_type": "stream",
     "text": [
      "103    4828\n",
      "21     3020\n",
      "16     1701\n",
      "114    1491\n",
      "160     958\n",
      "       ... \n",
      "8         4\n",
      "111       3\n",
      "129       3\n",
      "171       2\n",
      "140       1\n",
      "Name: city, Length: 123, dtype: int64 21    3669\n",
      "5     1593\n",
      "4     1548\n",
      "3     1508\n",
      "6     1346\n",
      "2     1255\n",
      "7     1144\n",
      "9     1093\n",
      "10    1081\n",
      "8      884\n",
      "11     750\n",
      "15     745\n",
      "14     641\n",
      "1      605\n",
      "0      596\n",
      "16     576\n",
      "12     546\n",
      "13     453\n",
      "17     378\n",
      "19     333\n",
      "18     306\n",
      "20     167\n",
      "Name: experience, dtype: int64 1    8924\n",
      "5    3643\n",
      "2    3242\n",
      "0    2710\n",
      "3    1157\n",
      "4    1148\n",
      "Name: last_new_job, dtype: int64\n"
     ]
    }
   ],
   "source": [
    "'''Identificamos que em algumas variáveis, alguns atributos que estão fora do padrão ou que possuem \n",
    "informação a mais, tendo isso será feito um replace dessas informações'''\n",
    "\n",
    "dataset['city'] = dataset['city'].replace('city_',\"\", regex=True)\n",
    "dataset['experience'] = dataset['experience'].replace(['>20','<1'],[21,0], regex=True)\n",
    "dataset['last_new_job'] = dataset['last_new_job'].replace(['>4','never'],[5,0],regex=True)\n",
    "\n",
    "print(dataset['city'].value_counts(),\n",
    "      dataset['experience'].value_counts(),\n",
    "      dataset['last_new_job'].value_counts())"
   ]
  },
  {
   "cell_type": "code",
   "execution_count": 13,
   "id": "09ed4635",
   "metadata": {},
   "outputs": [
    {
     "name": "stdout",
     "output_type": "stream",
     "text": [
      "<class 'pandas.core.frame.DataFrame'>\n",
      "Int64Index: 21287 entries, 0 to 2128\n",
      "Data columns (total 13 columns):\n",
      " #   Column                  Non-Null Count  Dtype  \n",
      "---  ------                  --------------  -----  \n",
      " 0   city                    21287 non-null  object \n",
      " 1   city_development_index  21287 non-null  float64\n",
      " 2   gender                  16271 non-null  object \n",
      " 3   relevent_experience     21287 non-null  object \n",
      " 4   enrolled_university     20870 non-null  object \n",
      " 5   education_level         20775 non-null  object \n",
      " 6   major_discipline        18162 non-null  object \n",
      " 7   experience              21217 non-null  object \n",
      " 8   company_size            14727 non-null  object \n",
      " 9   company_type            14513 non-null  object \n",
      " 10  last_new_job            20824 non-null  object \n",
      " 11  training_hours          21287 non-null  int64  \n",
      " 12  target                  21287 non-null  float64\n",
      "dtypes: float64(2), int64(1), object(10)\n",
      "memory usage: 2.3+ MB\n"
     ]
    }
   ],
   "source": [
    "dataset.info()"
   ]
  },
  {
   "cell_type": "code",
   "execution_count": 14,
   "id": "32314c55",
   "metadata": {},
   "outputs": [
    {
     "name": "stdout",
     "output_type": "stream",
     "text": [
      "target           0.0       1.0  woe   iv\n",
      "enrollee_id                             \n",
      "1            0.00007  0.000000 -inf  inf\n",
      "2            0.00000  0.000209  inf  inf\n",
      "4            0.00007  0.000000 -inf  inf\n",
      "5            0.00007  0.000000 -inf  inf\n",
      "7            0.00007  0.000000 -inf  inf\n",
      "...              ...       ...  ...  ...\n",
      "33375        0.00007  0.000000 -inf  inf\n",
      "33376        0.00007  0.000000 -inf  inf\n",
      "33377        0.00007  0.000000 -inf  inf\n",
      "33379        0.00007  0.000000 -inf  inf\n",
      "33380        0.00007  0.000000 -inf  inf\n",
      "\n",
      "[19158 rows x 4 columns] \n",
      "------------------------------------------------------------\n",
      "target      0.0       1.0       woe        iv\n",
      "gender                                       \n",
      "Female  0.08098  0.096222  0.172452  0.003337\n",
      "Male    0.90650  0.889020 -0.019471  0.003337\n",
      "Other   0.01252  0.014758  0.164458  0.003337 \n",
      "------------------------------------------------------------\n",
      "target                        0.0       1.0       woe        iv\n",
      "relevent_experience                                            \n",
      "Has relevent experience  0.753147  0.619845 -0.194790  0.083523\n",
      "No relevent experience   0.246853  0.380155  0.431784  0.083523 \n",
      "------------------------------------------------------------\n",
      "target                    0.0       1.0       woe        iv\n",
      "enrolled_university                                        \n",
      "Full time course     0.164754  0.307477  0.623947  0.118886\n",
      "Part time course     0.063465  0.064890  0.022210  0.118886\n",
      "no_enrollment        0.771781  0.627632 -0.206746  0.118886 \n",
      "------------------------------------------------------------\n",
      "target                0.0       1.0       woe       iv\n",
      "education_level                                       \n",
      "Graduate         0.595579  0.694415  0.153535  0.05117\n",
      "High School      0.115722  0.084314 -0.316640  0.05117\n",
      "Masters          0.244278  0.200086 -0.199562  0.05117\n",
      "Phd              0.025383  0.012412 -0.715448  0.05117\n",
      "Primary School   0.019037  0.008774 -0.774636  0.05117 \n",
      "------------------------------------------------------------\n",
      "target                 0.0       1.0       woe        iv\n",
      "major_discipline                                        \n",
      "Arts              0.016506  0.012535 -0.275145  0.004148\n",
      "Business Degree   0.019889  0.020341  0.022431  0.004148\n",
      "Humanities        0.043575  0.033349 -0.267456  0.004148\n",
      "No Major          0.013865  0.013009 -0.063750  0.004148\n",
      "Other             0.023026  0.024125  0.046641  0.004148\n",
      "STEM              0.883139  0.896641  0.015173  0.004148 \n",
      "------------------------------------------------------------\n",
      "target                    0.0       1.0       woe        iv\n",
      "company_type                                               \n",
      "Early Stage Startup  0.043388  0.059340  0.313091  0.017772\n",
      "Funded Startup       0.081035  0.058504 -0.325790  0.017772\n",
      "NGO                  0.039906  0.040535  0.015639  0.017772\n",
      "Other                0.008659  0.012119  0.336169  0.017772\n",
      "Public Sector        0.070118  0.087756  0.224385  0.017772\n",
      "Pvt Ltd              0.756894  0.741747 -0.020215  0.017772 \n",
      "------------------------------------------------------------\n"
     ]
    },
    {
     "name": "stderr",
     "output_type": "stream",
     "text": [
      "C:\\Users\\Anaconda\\lib\\site-packages\\pandas\\core\\arraylike.py:364: RuntimeWarning: divide by zero encountered in log\n",
      "  result = getattr(ufunc, method)(*inputs, **kwargs)\n"
     ]
    }
   ],
   "source": [
    "# Analise IV e woe para as variáveis categóricas em relação a variável target, essa análise será feita\n",
    "# apenas para os dados de treino essa análise e o resultado da análise será aplicado no dataset\n",
    "# principal\n",
    "for i in dados_train.drop(columns = ['target',\n",
    "                            'city',\n",
    "                            'city_development_index',\n",
    "                            'training_hours',\n",
    "                            'experience',\n",
    "                            'last_new_job',\n",
    "                            'company_size']).columns:\n",
    "  \n",
    "    df_woe_iv = (pd.crosstab(dados_train[i], dados_train['target'], normalize = 'columns')\n",
    "                 .assign(woe = lambda dfx: np.log(dfx[1] / dfx[0]))\n",
    "                 .assign(iv = lambda dfx: np.sum(dfx['woe'] * (dfx[1]-dfx[0]))))\n",
    "    \n",
    "    print(df_woe_iv,'\\n------------------------------------------------------------')"
   ]
  },
  {
   "cell_type": "code",
   "execution_count": 15,
   "id": "0e0961e7",
   "metadata": {},
   "outputs": [
    {
     "data": {
      "text/html": [
       "<div>\n",
       "<style scoped>\n",
       "    .dataframe tbody tr th:only-of-type {\n",
       "        vertical-align: middle;\n",
       "    }\n",
       "\n",
       "    .dataframe tbody tr th {\n",
       "        vertical-align: top;\n",
       "    }\n",
       "\n",
       "    .dataframe thead th {\n",
       "        text-align: right;\n",
       "    }\n",
       "</style>\n",
       "<table border=\"1\" class=\"dataframe\">\n",
       "  <thead>\n",
       "    <tr style=\"text-align: right;\">\n",
       "      <th></th>\n",
       "      <th>city</th>\n",
       "      <th>city_development_index</th>\n",
       "      <th>relevent_experience</th>\n",
       "      <th>enrolled_university</th>\n",
       "      <th>education_level</th>\n",
       "      <th>experience</th>\n",
       "      <th>company_size</th>\n",
       "      <th>company_type</th>\n",
       "      <th>last_new_job</th>\n",
       "      <th>training_hours</th>\n",
       "      <th>target</th>\n",
       "    </tr>\n",
       "  </thead>\n",
       "  <tbody>\n",
       "    <tr>\n",
       "      <th>0</th>\n",
       "      <td>103</td>\n",
       "      <td>0.920</td>\n",
       "      <td>Has relevent experience</td>\n",
       "      <td>no_enrollment</td>\n",
       "      <td>Graduate</td>\n",
       "      <td>21</td>\n",
       "      <td>NaN</td>\n",
       "      <td>NaN</td>\n",
       "      <td>1</td>\n",
       "      <td>36</td>\n",
       "      <td>1.0</td>\n",
       "    </tr>\n",
       "    <tr>\n",
       "      <th>1</th>\n",
       "      <td>40</td>\n",
       "      <td>0.776</td>\n",
       "      <td>No relevent experience</td>\n",
       "      <td>no_enrollment</td>\n",
       "      <td>Graduate</td>\n",
       "      <td>15</td>\n",
       "      <td>50-99</td>\n",
       "      <td>Pvt Ltd</td>\n",
       "      <td>5</td>\n",
       "      <td>47</td>\n",
       "      <td>0.0</td>\n",
       "    </tr>\n",
       "    <tr>\n",
       "      <th>2</th>\n",
       "      <td>21</td>\n",
       "      <td>0.624</td>\n",
       "      <td>No relevent experience</td>\n",
       "      <td>Full time course</td>\n",
       "      <td>Graduate</td>\n",
       "      <td>5</td>\n",
       "      <td>NaN</td>\n",
       "      <td>NaN</td>\n",
       "      <td>0</td>\n",
       "      <td>83</td>\n",
       "      <td>0.0</td>\n",
       "    </tr>\n",
       "    <tr>\n",
       "      <th>3</th>\n",
       "      <td>115</td>\n",
       "      <td>0.789</td>\n",
       "      <td>No relevent experience</td>\n",
       "      <td>NaN</td>\n",
       "      <td>Graduate</td>\n",
       "      <td>0</td>\n",
       "      <td>NaN</td>\n",
       "      <td>Pvt Ltd</td>\n",
       "      <td>0</td>\n",
       "      <td>52</td>\n",
       "      <td>1.0</td>\n",
       "    </tr>\n",
       "    <tr>\n",
       "      <th>4</th>\n",
       "      <td>162</td>\n",
       "      <td>0.767</td>\n",
       "      <td>Has relevent experience</td>\n",
       "      <td>no_enrollment</td>\n",
       "      <td>Masters</td>\n",
       "      <td>21</td>\n",
       "      <td>50-99</td>\n",
       "      <td>Funded Startup</td>\n",
       "      <td>4</td>\n",
       "      <td>8</td>\n",
       "      <td>0.0</td>\n",
       "    </tr>\n",
       "  </tbody>\n",
       "</table>\n",
       "</div>"
      ],
      "text/plain": [
       "  city  city_development_index      relevent_experience enrolled_university  \\\n",
       "0  103                   0.920  Has relevent experience       no_enrollment   \n",
       "1   40                   0.776   No relevent experience       no_enrollment   \n",
       "2   21                   0.624   No relevent experience    Full time course   \n",
       "3  115                   0.789   No relevent experience                 NaN   \n",
       "4  162                   0.767  Has relevent experience       no_enrollment   \n",
       "\n",
       "  education_level experience company_size    company_type last_new_job  \\\n",
       "0        Graduate         21          NaN             NaN            1   \n",
       "1        Graduate         15        50-99         Pvt Ltd            5   \n",
       "2        Graduate          5          NaN             NaN            0   \n",
       "3        Graduate          0          NaN         Pvt Ltd            0   \n",
       "4         Masters         21        50-99  Funded Startup            4   \n",
       "\n",
       "   training_hours  target  \n",
       "0              36     1.0  \n",
       "1              47     0.0  \n",
       "2              83     0.0  \n",
       "3              52     1.0  \n",
       "4               8     0.0  "
      ]
     },
     "execution_count": 15,
     "metadata": {},
     "output_type": "execute_result"
    }
   ],
   "source": [
    "'''Analisando o IV sobre os dados de treino iremos excluir as variáveis 'major_discipline' e 'gender'\n",
    "pois possuem uma relação muito fraca com a variável target, sendo esse procedimento feito no\n",
    "dataset principal'''\n",
    "\n",
    "dataset.drop(['major_discipline','gender'],axis = 1,inplace=True)\n",
    "dataset.head()"
   ]
  },
  {
   "cell_type": "code",
   "execution_count": 16,
   "id": "666d1958",
   "metadata": {},
   "outputs": [
    {
     "data": {
      "text/plain": [
       "<AxesSubplot:>"
      ]
     },
     "execution_count": 16,
     "metadata": {},
     "output_type": "execute_result"
    },
    {
     "data": {
      "image/png": "[encoded data removed]",
      "text/plain": [
       "<Figure size 432x288 with 2 Axes>"
      ]
     },
     "metadata": {
      "needs_background": "light"
     },
     "output_type": "display_data"
    }
   ],
   "source": [
    "# Analise de correlação das variáveis numéricas em relação a variável target\n",
    "# Apenas para os dados de treino essa análise e o resultado será aplicado no dataset principal\n",
    "corr = dados_train.corr()\n",
    "sb.heatmap(corr, cmap=\"Blues\", annot=True)"
   ]
  },
  {
   "cell_type": "code",
   "execution_count": 17,
   "id": "58889f16",
   "metadata": {},
   "outputs": [
    {
     "data": {
      "text/html": [
       "<div>\n",
       "<style scoped>\n",
       "    .dataframe tbody tr th:only-of-type {\n",
       "        vertical-align: middle;\n",
       "    }\n",
       "\n",
       "    .dataframe tbody tr th {\n",
       "        vertical-align: top;\n",
       "    }\n",
       "\n",
       "    .dataframe thead th {\n",
       "        text-align: right;\n",
       "    }\n",
       "</style>\n",
       "<table border=\"1\" class=\"dataframe\">\n",
       "  <thead>\n",
       "    <tr style=\"text-align: right;\">\n",
       "      <th></th>\n",
       "      <th>city</th>\n",
       "      <th>relevent_experience</th>\n",
       "      <th>enrolled_university</th>\n",
       "      <th>education_level</th>\n",
       "      <th>experience</th>\n",
       "      <th>company_size</th>\n",
       "      <th>company_type</th>\n",
       "      <th>last_new_job</th>\n",
       "      <th>training_hours</th>\n",
       "      <th>target</th>\n",
       "    </tr>\n",
       "  </thead>\n",
       "  <tbody>\n",
       "    <tr>\n",
       "      <th>0</th>\n",
       "      <td>103</td>\n",
       "      <td>Has relevent experience</td>\n",
       "      <td>no_enrollment</td>\n",
       "      <td>Graduate</td>\n",
       "      <td>21</td>\n",
       "      <td>NaN</td>\n",
       "      <td>NaN</td>\n",
       "      <td>1</td>\n",
       "      <td>36</td>\n",
       "      <td>1.0</td>\n",
       "    </tr>\n",
       "    <tr>\n",
       "      <th>1</th>\n",
       "      <td>40</td>\n",
       "      <td>No relevent experience</td>\n",
       "      <td>no_enrollment</td>\n",
       "      <td>Graduate</td>\n",
       "      <td>15</td>\n",
       "      <td>50-99</td>\n",
       "      <td>Pvt Ltd</td>\n",
       "      <td>5</td>\n",
       "      <td>47</td>\n",
       "      <td>0.0</td>\n",
       "    </tr>\n",
       "    <tr>\n",
       "      <th>2</th>\n",
       "      <td>21</td>\n",
       "      <td>No relevent experience</td>\n",
       "      <td>Full time course</td>\n",
       "      <td>Graduate</td>\n",
       "      <td>5</td>\n",
       "      <td>NaN</td>\n",
       "      <td>NaN</td>\n",
       "      <td>0</td>\n",
       "      <td>83</td>\n",
       "      <td>0.0</td>\n",
       "    </tr>\n",
       "    <tr>\n",
       "      <th>3</th>\n",
       "      <td>115</td>\n",
       "      <td>No relevent experience</td>\n",
       "      <td>NaN</td>\n",
       "      <td>Graduate</td>\n",
       "      <td>0</td>\n",
       "      <td>NaN</td>\n",
       "      <td>Pvt Ltd</td>\n",
       "      <td>0</td>\n",
       "      <td>52</td>\n",
       "      <td>1.0</td>\n",
       "    </tr>\n",
       "    <tr>\n",
       "      <th>4</th>\n",
       "      <td>162</td>\n",
       "      <td>Has relevent experience</td>\n",
       "      <td>no_enrollment</td>\n",
       "      <td>Masters</td>\n",
       "      <td>21</td>\n",
       "      <td>50-99</td>\n",
       "      <td>Funded Startup</td>\n",
       "      <td>4</td>\n",
       "      <td>8</td>\n",
       "      <td>0.0</td>\n",
       "    </tr>\n",
       "  </tbody>\n",
       "</table>\n",
       "</div>"
      ],
      "text/plain": [
       "  city      relevent_experience enrolled_university education_level  \\\n",
       "0  103  Has relevent experience       no_enrollment        Graduate   \n",
       "1   40   No relevent experience       no_enrollment        Graduate   \n",
       "2   21   No relevent experience    Full time course        Graduate   \n",
       "3  115   No relevent experience                 NaN        Graduate   \n",
       "4  162  Has relevent experience       no_enrollment         Masters   \n",
       "\n",
       "  experience company_size    company_type last_new_job  training_hours  target  \n",
       "0         21          NaN             NaN            1              36     1.0  \n",
       "1         15        50-99         Pvt Ltd            5              47     0.0  \n",
       "2          5          NaN             NaN            0              83     0.0  \n",
       "3          0          NaN         Pvt Ltd            0              52     1.0  \n",
       "4         21        50-99  Funded Startup            4               8     0.0  "
      ]
     },
     "execution_count": 17,
     "metadata": {},
     "output_type": "execute_result"
    }
   ],
   "source": [
    "''' Devido a uma baixa relação com a variável target a variável no dataset de treino \n",
    "'city_development_index' será removida do nosso dataset principal'''\n",
    "\n",
    "dataset.drop(['city_development_index'],axis=1,inplace=True)\n",
    "dataset.head()"
   ]
  },
  {
   "cell_type": "code",
   "execution_count": 18,
   "id": "cff3ff03",
   "metadata": {},
   "outputs": [],
   "source": [
    "# imputação de valores nas variáveis 'education_level', 'enrolled_university' e 'company_type'\n",
    "dataset['company_type'].replace(np.nan,'Other',regex=True,inplace=True)\n",
    "\n",
    "dataset['education_level'] = np.where(((dataset['enrolled_university'] == 'Full time course')\n",
    "                                          | (dataset['enrolled_university'] == 'Part time course')\n",
    "                                          & (dataset['education_level'] == np.nan)),\n",
    "                                         'High School',dataset['education_level'])\n",
    "\n",
    "dataset['enrolled_university'] = np.where(((dataset['education_level'] == 'Primary School') &\n",
    "                                               (dataset['enrolled_university'] == np.nan)),\n",
    "                                               'no_enrollment',dataset['education_level'])\n",
    "\n",
    "#Imputação do valor 'Other' no lugar de NaN no atributo company_size\n",
    "dataset['company_size'] = dataset['company_size'].fillna('Other')\n",
    "\n",
    "# Padronização dos dados da variável 'company_size'\n",
    "dataset['company_size'] = dataset['company_size'].replace(['10/49','<10'],\n",
    "                                                                  ['10-49','1-10'],regex=True)"
   ]
  },
  {
   "cell_type": "code",
   "execution_count": 19,
   "id": "e113d6fa",
   "metadata": {
    "scrolled": true
   },
   "outputs": [
    {
     "name": "stdout",
     "output_type": "stream",
     "text": [
      "city   0.0\n",
      "relevent_experience   0.0\n",
      "enrolled_university   2.02470991685066\n",
      "education_level   2.02470991685066\n",
      "experience   0.3288391976323578\n",
      "company_size   0.0\n",
      "company_type   0.0\n",
      "last_new_job   2.1750364071968806\n",
      "training_hours   0.0\n",
      "target   0.0\n"
     ]
    }
   ],
   "source": [
    "#analisar percentual de valores faltantes no dataset\n",
    "for value in dataset.columns:\n",
    "    print(value,\" \",(dataset[value].isna().sum()/len(dataset))*100)"
   ]
  },
  {
   "cell_type": "code",
   "execution_count": 20,
   "id": "434b01ba",
   "metadata": {
    "scrolled": true
   },
   "outputs": [
    {
     "name": "stdout",
     "output_type": "stream",
     "text": [
      "<class 'pandas.core.frame.DataFrame'>\n",
      "Int64Index: 21287 entries, 0 to 2128\n",
      "Data columns (total 10 columns):\n",
      " #   Column               Non-Null Count  Dtype  \n",
      "---  ------               --------------  -----  \n",
      " 0   city                 21287 non-null  object \n",
      " 1   relevent_experience  21287 non-null  object \n",
      " 2   enrolled_university  20856 non-null  object \n",
      " 3   education_level      20856 non-null  object \n",
      " 4   experience           21217 non-null  object \n",
      " 5   company_size         21287 non-null  object \n",
      " 6   company_type         21287 non-null  object \n",
      " 7   last_new_job         20824 non-null  object \n",
      " 8   training_hours       21287 non-null  int64  \n",
      " 9   target               21287 non-null  float64\n",
      "dtypes: float64(1), int64(1), object(8)\n",
      "memory usage: 1.8+ MB\n"
     ]
    }
   ],
   "source": [
    "dataset.info()"
   ]
  },
  {
   "cell_type": "code",
   "execution_count": 21,
   "id": "7c8ce96b",
   "metadata": {},
   "outputs": [
    {
     "data": {
      "image/png": "[encoded data removed]",
      "text/plain": [
       "<Figure size 432x288 with 1 Axes>"
      ]
     },
     "metadata": {
      "needs_background": "light"
     },
     "output_type": "display_data"
    }
   ],
   "source": [
    "# Identificação de outliers na variável 'training_hours'\n",
    "ax = sb.boxplot(x=dataset[\"training_hours\"])"
   ]
  },
  {
   "cell_type": "code",
   "execution_count": 22,
   "id": "d0f80ffd",
   "metadata": {},
   "outputs": [],
   "source": [
    "# Tratamento dos outliers, tranformando os mesmos nos maiores e menores valores do range boxplot\n",
    "Q1, Q3 = dataset[\"training_hours\"].quantile(0.25), dataset[\"training_hours\"].quantile(0.75)\n",
    "IQR = Q3 - Q1\n",
    "cut_off = IQR * 1.5\n",
    "lower, upper = Q1 - cut_off, Q3 + cut_off\n",
    "\n",
    "dataset[\"training_hours\"] = np.where(dataset[\"training_hours\"] > upper, upper, dataset[\"training_hours\"])\n",
    "dataset[\"training_hours\"] = np.where(dataset[\"training_hours\"] < lower, lower, dataset[\"training_hours\"])"
   ]
  },
  {
   "cell_type": "code",
   "execution_count": 23,
   "id": "dc41b838",
   "metadata": {
    "scrolled": true
   },
   "outputs": [
    {
     "name": "stdout",
     "output_type": "stream",
     "text": [
      "<class 'pandas.core.frame.DataFrame'>\n",
      "Int64Index: 21287 entries, 0 to 2128\n",
      "Data columns (total 10 columns):\n",
      " #   Column               Non-Null Count  Dtype  \n",
      "---  ------               --------------  -----  \n",
      " 0   city                 21287 non-null  int64  \n",
      " 1   relevent_experience  21287 non-null  object \n",
      " 2   enrolled_university  20856 non-null  object \n",
      " 3   education_level      20856 non-null  object \n",
      " 4   experience           21217 non-null  float64\n",
      " 5   company_size         21287 non-null  object \n",
      " 6   company_type         21287 non-null  object \n",
      " 7   last_new_job         20824 non-null  float64\n",
      " 8   training_hours       21287 non-null  float64\n",
      " 9   target               21287 non-null  float64\n",
      "dtypes: float64(4), int64(1), object(5)\n",
      "memory usage: 1.8+ MB\n"
     ]
    }
   ],
   "source": [
    "# Conversão de series numéricas em string para formato mais adequado\n",
    "\n",
    "dataset[\"experience\"] = pd.to_numeric(dataset[\"experience\"])\n",
    "dataset[\"city\"] = pd.to_numeric(dataset[\"city\"])\n",
    "dataset[\"last_new_job\"] = pd.to_numeric(dataset[\"last_new_job\"])\n",
    "dataset.info()"
   ]
  },
  {
   "cell_type": "code",
   "execution_count": 24,
   "id": "dd01a9ba",
   "metadata": {},
   "outputs": [],
   "source": [
    "dataset.dropna(inplace=True)"
   ]
  },
  {
   "cell_type": "code",
   "execution_count": 25,
   "id": "ae1c0f52",
   "metadata": {},
   "outputs": [
    {
     "data": {
      "text/html": [
       "<div>\n",
       "<style scoped>\n",
       "    .dataframe tbody tr th:only-of-type {\n",
       "        vertical-align: middle;\n",
       "    }\n",
       "\n",
       "    .dataframe tbody tr th {\n",
       "        vertical-align: top;\n",
       "    }\n",
       "\n",
       "    .dataframe thead th {\n",
       "        text-align: right;\n",
       "    }\n",
       "</style>\n",
       "<table border=\"1\" class=\"dataframe\">\n",
       "  <thead>\n",
       "    <tr style=\"text-align: right;\">\n",
       "      <th></th>\n",
       "      <th>city</th>\n",
       "      <th>relevent_experience</th>\n",
       "      <th>enrolled_university</th>\n",
       "      <th>education_level</th>\n",
       "      <th>experience</th>\n",
       "      <th>company_size</th>\n",
       "      <th>company_type</th>\n",
       "      <th>last_new_job</th>\n",
       "      <th>training_hours</th>\n",
       "      <th>target</th>\n",
       "    </tr>\n",
       "  </thead>\n",
       "  <tbody>\n",
       "    <tr>\n",
       "      <th>0</th>\n",
       "      <td>103</td>\n",
       "      <td>0</td>\n",
       "      <td>0</td>\n",
       "      <td>0</td>\n",
       "      <td>21.0</td>\n",
       "      <td>8</td>\n",
       "      <td>3</td>\n",
       "      <td>1.0</td>\n",
       "      <td>36.0</td>\n",
       "      <td>1.0</td>\n",
       "    </tr>\n",
       "    <tr>\n",
       "      <th>1</th>\n",
       "      <td>40</td>\n",
       "      <td>1</td>\n",
       "      <td>0</td>\n",
       "      <td>0</td>\n",
       "      <td>15.0</td>\n",
       "      <td>5</td>\n",
       "      <td>5</td>\n",
       "      <td>5.0</td>\n",
       "      <td>47.0</td>\n",
       "      <td>0.0</td>\n",
       "    </tr>\n",
       "    <tr>\n",
       "      <th>2</th>\n",
       "      <td>21</td>\n",
       "      <td>1</td>\n",
       "      <td>1</td>\n",
       "      <td>1</td>\n",
       "      <td>5.0</td>\n",
       "      <td>8</td>\n",
       "      <td>3</td>\n",
       "      <td>0.0</td>\n",
       "      <td>83.0</td>\n",
       "      <td>0.0</td>\n",
       "    </tr>\n",
       "    <tr>\n",
       "      <th>3</th>\n",
       "      <td>115</td>\n",
       "      <td>1</td>\n",
       "      <td>0</td>\n",
       "      <td>0</td>\n",
       "      <td>0.0</td>\n",
       "      <td>8</td>\n",
       "      <td>5</td>\n",
       "      <td>0.0</td>\n",
       "      <td>52.0</td>\n",
       "      <td>1.0</td>\n",
       "    </tr>\n",
       "    <tr>\n",
       "      <th>4</th>\n",
       "      <td>162</td>\n",
       "      <td>0</td>\n",
       "      <td>2</td>\n",
       "      <td>2</td>\n",
       "      <td>21.0</td>\n",
       "      <td>5</td>\n",
       "      <td>1</td>\n",
       "      <td>4.0</td>\n",
       "      <td>8.0</td>\n",
       "      <td>0.0</td>\n",
       "    </tr>\n",
       "  </tbody>\n",
       "</table>\n",
       "</div>"
      ],
      "text/plain": [
       "   city  relevent_experience  enrolled_university  education_level  \\\n",
       "0   103                    0                    0                0   \n",
       "1    40                    1                    0                0   \n",
       "2    21                    1                    1                1   \n",
       "3   115                    1                    0                0   \n",
       "4   162                    0                    2                2   \n",
       "\n",
       "   experience  company_size  company_type  last_new_job  training_hours  \\\n",
       "0        21.0             8             3           1.0            36.0   \n",
       "1        15.0             5             5           5.0            47.0   \n",
       "2         5.0             8             3           0.0            83.0   \n",
       "3         0.0             8             5           0.0            52.0   \n",
       "4        21.0             5             1           4.0             8.0   \n",
       "\n",
       "   target  \n",
       "0     1.0  \n",
       "1     0.0  \n",
       "2     0.0  \n",
       "3     1.0  \n",
       "4     0.0  "
      ]
     },
     "execution_count": 25,
     "metadata": {},
     "output_type": "execute_result"
    }
   ],
   "source": [
    "# Encoding das variáveis categoricas para uso no processo de predição\n",
    "label = preprocessing.LabelEncoder()\n",
    "\n",
    "label.fit(dataset[\"relevent_experience\"])\n",
    "dataset[\"relevent_experience\"] = label.transform(dataset[\"relevent_experience\"])\n",
    "\n",
    "label.fit(dataset[\"enrolled_university\"])\n",
    "dataset[\"enrolled_university\"] = label.transform(dataset[\"enrolled_university\"])\n",
    "\n",
    "label.fit(dataset[\"education_level\"])\n",
    "dataset[\"education_level\"] = label.transform(dataset[\"education_level\"])\n",
    "\n",
    "label.fit(dataset[\"company_size\"])\n",
    "dataset[\"company_size\"] = label.transform(dataset[\"company_size\"])\n",
    "\n",
    "label.fit(dataset[\"company_type\"])\n",
    "dataset[\"company_type\"] = label.transform(dataset[\"company_type\"])\n",
    "dataset.head()"
   ]
  },
  {
   "cell_type": "markdown",
   "id": "13a0cefb",
   "metadata": {},
   "source": [
    "### Treino e Teste de Modelo de Machine Learning (Preditor Gaussiano)"
   ]
  },
  {
   "cell_type": "code",
   "execution_count": 50,
   "id": "fa7d88ce",
   "metadata": {},
   "outputs": [],
   "source": [
    "# separação dos dados de treino e teste\n",
    "x_data = dataset.drop(['target'],axis=1)\n",
    "y_data = dataset['target']"
   ]
  },
  {
   "cell_type": "code",
   "execution_count": 78,
   "id": "6099f9fe",
   "metadata": {
    "scrolled": true
   },
   "outputs": [],
   "source": [
    "# Realização do Treino e do teste utilizando modelos Gaussiano\n",
    "x_train,x_test,y_train,y_test = train_test_split(x_data,y_data,test_size=0.4)\n",
    "gnb = GaussianNB()\n",
    "\n",
    "gnb.fit(x_train, y_train)\n",
    "y_pred = gnb.predict(x_test)"
   ]
  },
  {
   "cell_type": "code",
   "execution_count": 79,
   "id": "9791169b",
   "metadata": {},
   "outputs": [
    {
     "data": {
      "text/plain": [
       "0.6622946800686442"
      ]
     },
     "execution_count": 79,
     "metadata": {},
     "output_type": "execute_result"
    }
   ],
   "source": [
    "# Acurácia Comparativa entre o que foi previsto e os dados reais\n",
    "metrics.accuracy_score(y_test, y_pred)"
   ]
  },
  {
   "cell_type": "markdown",
   "id": "15bc99d5",
   "metadata": {},
   "source": [
    "### Treino e Teste de Modelo de Machine Learning (Preditor KNN)"
   ]
  },
  {
   "cell_type": "code",
   "execution_count": 87,
   "id": "cb4c0abe",
   "metadata": {},
   "outputs": [],
   "source": [
    "# Realização do Treino e do teste utilizando modelo KNeighbors\n",
    "x_train,x_test,y_train,y_test = train_test_split(x_data,y_data,test_size=0.4)\n",
    "knc = KNeighborsClassifier()\n",
    "\n",
    "knc.fit(x_train, y_train)\n",
    "y_pred = knc.predict(x_test)"
   ]
  },
  {
   "cell_type": "code",
   "execution_count": 88,
   "id": "63da7c72",
   "metadata": {},
   "outputs": [
    {
     "data": {
      "text/plain": [
       "0.6528560921794557"
      ]
     },
     "execution_count": 88,
     "metadata": {},
     "output_type": "execute_result"
    }
   ],
   "source": [
    "# Acurácia Comparativa entre o que foi previsto e os dados reais\n",
    "metrics.accuracy_score(y_test, y_pred)"
   ]
  },
  {
   "cell_type": "markdown",
   "id": "8f2232f5",
   "metadata": {},
   "source": [
    "### Treino e Teste de Modelo de Machine Learning (Árvore de Decisão)"
   ]
  },
  {
   "cell_type": "code",
   "execution_count": 89,
   "id": "da99f772",
   "metadata": {},
   "outputs": [],
   "source": [
    "# Realização do Treino e do teste utilizando modelo KNeighbors\n",
    "x_train,x_test,y_train,y_test = train_test_split(x_data,y_data,test_size=0.4)\n",
    "dtc = DecisionTreeClassifier()\n",
    "\n",
    "dtc.fit(x_train, y_train)\n",
    "y_pred = dtc.predict(x_test)"
   ]
  },
  {
   "cell_type": "code",
   "execution_count": 90,
   "id": "6939cdec",
   "metadata": {},
   "outputs": [
    {
     "data": {
      "text/plain": [
       "0.5720764893356215"
      ]
     },
     "execution_count": 90,
     "metadata": {},
     "output_type": "execute_result"
    }
   ],
   "source": [
    "# Acurácia Comparativa entre o que foi previsto e os dados reais\n",
    "metrics.accuracy_score(y_test, y_pred)"
   ]
  },
  {
   "cell_type": "markdown",
   "id": "a47e1e85",
   "metadata": {},
   "source": [
    "**Entre os 3 preditores o que teve melhor performance para o cenário abordado foi o modelo Gaussiano, obtendo uma acurácia superior a 66% no processo de predição**"
   ]
  },
  {
   "cell_type": "code",
   "execution_count": null,
   "id": "5604da54",
   "metadata": {},
   "outputs": [],
   "source": []
  }
 ],
 "metadata": {
  "kernelspec": {
   "display_name": "Python 3 (ipykernel)",
   "language": "python",
   "name": "python3"
  },
  "language_info": {
   "codemirror_mode": {
    "name": "ipython",
    "version": 3
   },
   "file_extension": ".py",
   "mimetype": "text/x-python",
   "name": "python",
   "nbconvert_exporter": "python",
   "pygments_lexer": "ipython3",
   "version": "3.9.7"
  }
 },
 "nbformat": 4,
 "nbformat_minor": 5
}
